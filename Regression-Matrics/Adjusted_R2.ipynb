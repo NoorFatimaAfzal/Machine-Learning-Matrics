{
  "nbformat": 4,
  "nbformat_minor": 0,
  "metadata": {
    "colab": {
      "provenance": []
    },
    "kernelspec": {
      "name": "python3",
      "display_name": "Python 3"
    },
    "language_info": {
      "name": "python"
    }
  },
  "cells": [
    {
      "cell_type": "markdown",
      "source": [
        "# Adjusted R-squared Score\n",
        "\n",
        "**Definition:**  \n",
        "Adjusted R-squared is a modified version of R-squared (R²) that adjusts for the number of predictors in a regression model. Unlike R², which can artificially inflate with the addition of more predictors, Adjusted R-squared accounts for the degrees of freedom and provides a more accurate measure of the model's goodness-of-fit when multiple predictors are involved.\n",
        "\n",
        "**Formula:**\n",
        "\n",
        "$$\n",
        "\\text{Adjusted } R^2 = 1 - \\left( \\frac{(1 - R^2) \\cdot (n - 1)}{n - p - 1} \\right)\n",
        "$$\n",
        "\n",
        "where:\n",
        "- \\( R^2 \\) is the R-squared value of the model.\n",
        "- \\( n \\) is the number of observations (data points).\n",
        "- \\( p \\) is the number of predictors (independent variables) in the model.\n",
        "\n",
        "**Importance of Adjusted R²:**\n",
        "Adjusted R² is an essential metric for evaluating the performance of regression models, especially when comparing models with a different number of predictors. It helps in understanding how well the model fits the data while penalizing the inclusion of unnecessary predictors.\n",
        "\n",
        "- **Model Comparison:** Adjusted R² allows for a fair comparison between models with different numbers of predictors, making it easier to determine which model is more effective.\n",
        "- **Feature Selection:** A higher Adjusted R² indicates a better model fit that explains the variance in the dependent variable without overfitting.\n",
        "\n",
        "**Interpretation:**\n",
        "- **Higher Adjusted R²:** Indicates a better fit of the model to the data, taking into account the number of predictors.\n",
        "- **Lower Adjusted R²:** May suggest that the model is overfitting or that additional predictors do not significantly improve the model.\n",
        "\n",
        "**Example:**\n",
        "Consider a regression problem where we are predicting the price of houses based on their sizes and locations. Suppose we have the following R² value and model details:\n",
        "\n",
        "- \\( R^2 = 0.85 \\)\n",
        "- Number of observations (\\( n \\)) = 100\n",
        "- Number of predictors (\\( p \\)) = 5\n",
        "\n",
        "1. Calculate Adjusted R²:\n",
        "\n",
        "Using the formula:\n",
        "\n",
        "$$\n",
        "\\text{Adjusted } R^2 = 1 - \\left( \\frac{(1 - 0.85) \\cdot (100 - 1)}{100 - 5 - 1} \\right)\n",
        "$$\n",
        "\n",
        "Calculating:\n",
        "\n",
        "$$\n",
        "\\text{Adjusted } R^2 = 1 - \\left( \\frac{0.15 \\cdot 99}{94} \\right) \\approx 1 - 0.1585 \\approx 0.8415\n",
        "$$\n",
        "\n",
        "This indicates that approximately 84.15% of the variance in the actual house prices is explained by the model after adjusting for the number of predictors.\n",
        "\n",
        "**Conclusion:**\n",
        "Adjusted R-squared is a valuable metric for assessing the performance of regression models, especially when multiple predictors are involved. It provides insights into the model's effectiveness while accounting for the number of predictors, thus preventing overfitting. By considering Adjusted R² alongside other metrics, stakeholders can gain a comprehensive view of model performance.\n"
      ],
      "metadata": {
        "id": "E0fw4lETNgcE"
      }
    },
    {
      "cell_type": "code",
      "execution_count": 5,
      "metadata": {
        "colab": {
          "base_uri": "https://localhost:8080/"
        },
        "id": "jjvPC4ZlNfo2",
        "outputId": "1a1d8fbe-7024-407a-df31-4d6de9d89757"
      },
      "outputs": [
        {
          "output_type": "stream",
          "name": "stdout",
          "text": [
            "R²: 1.0000\n",
            "Adjusted R²: 1.0000\n"
          ]
        }
      ],
      "source": [
        "import numpy as np\n",
        "import pandas as pd\n",
        "from sklearn.linear_model import LinearRegression\n",
        "from sklearn.metrics import r2_score\n",
        "\n",
        "# Sample data\n",
        "data = {\n",
        "    'Size': [1500, 1600, 1700, 1800, 1900],\n",
        "    'Location': [1, 2, 1, 2, 1],  # Categorical variable encoded as numeric\n",
        "    'Price': [300000, 320000, 340000, 360000, 380000]\n",
        "}\n",
        "\n",
        "# Create DataFrame\n",
        "df = pd.DataFrame(data)\n",
        "\n",
        "# Independent variables (predictors)\n",
        "X = df[['Size', 'Location']]\n",
        "# Dependent variable (target)\n",
        "y = df['Price']\n",
        "\n",
        "# Fit linear regression model\n",
        "model = LinearRegression()\n",
        "model.fit(X, y)\n",
        "\n",
        "# Make predictions\n",
        "y_pred = model.predict(X)\n",
        "\n",
        "# Calculate R²\n",
        "r_squared = r2_score(y, y_pred)\n",
        "\n",
        "# Calculate Adjusted R²\n",
        "n = len(y)  # Number of observations\n",
        "p = X.shape[1]  # Number of predictors\n",
        "adjusted_r_squared = 1 - ((1 - r_squared) * (n - 1)) / (n - p - 1)\n",
        "\n",
        "print(f\"R²: {r_squared:.4f}\")\n",
        "print(f\"Adjusted R²: {adjusted_r_squared:.4f}\")"
      ]
    },
    {
      "cell_type": "code",
      "source": [],
      "metadata": {
        "id": "NPnHss3aNxTf"
      },
      "execution_count": null,
      "outputs": []
    }
  ]
}