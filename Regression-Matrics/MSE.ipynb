{
  "nbformat": 4,
  "nbformat_minor": 0,
  "metadata": {
    "colab": {
      "provenance": []
    },
    "kernelspec": {
      "name": "python3",
      "display_name": "Python 3"
    },
    "language_info": {
      "name": "python"
    }
  },
  "cells": [
    {
      "cell_type": "markdown",
      "source": [
        "# Mean Squared Error (MSE)\n",
        "\n",
        "**Definition:**  \n",
        "Mean Squared Error (MSE) is a measure of the average of the squares of the errors—that is, the average squared difference between the predicted values and the actual values. MSE is commonly used in regression analysis to evaluate the performance of a model.\n",
        "\n",
        "**Formula:**\n",
        "\n",
        "$$\n",
        "\\text{MSE} = \\frac{1}{n} \\sum_{i=1}^{n} (y_i - \\hat{y}_i)^2\n",
        "$$\n",
        "\n",
        "where:\n",
        "- \\( y_i \\) is the actual value,\n",
        "- \\( \\hat{y}_i \\) is the predicted value,\n",
        "- \\( n \\) is the total number of observations.\n",
        "\n",
        "**Importance of MSE:**\n",
        "MSE is important for quantifying the accuracy of a model's predictions, especially in regression tasks. It is used in various applications, such as:\n",
        "\n",
        "- **Machine Learning:** In supervised learning, MSE is used as a loss function for regression models to optimize their predictions.\n",
        "- **Signal Processing:** In comparing signals and assessing the quality of estimates.\n",
        "\n",
        "**Interpretation:**\n",
        "- **Low MSE:** A low MSE value indicates that the model's predictions are close to the actual values, suggesting good performance.\n",
        "  \n",
        "- **High MSE:** A high MSE value indicates that the model's predictions deviate significantly from the actual values, which may require model tuning or improvement.\n",
        "\n",
        "**Example:**\n",
        "Consider a regression problem where we are predicting the temperature in degrees Celsius for a week. Suppose we have the following actual and predicted temperature data:\n",
        "\n",
        "| Day | Actual Temperature (\\(y\\)) | Predicted Temperature (\\(\\hat{y}\\)) |\n",
        "|-----|-----------------------------|-------------------------------------|\n",
        "| 1   | 20                          | 18                                  |\n",
        "| 2   | 22                          | 24                                  |\n",
        "| 3   | 25                          | 23                                  |\n",
        "| 4   | 19                          | 21                                  |\n",
        "| 5   | 30                          | 29                                  |\n",
        "\n",
        "To calculate MSE, we first compute the squared errors:\n",
        "\n",
        "- Day 1: (20 - 18)² = 4\n",
        "- Day 2: (22 - 24)² = 4\n",
        "- Day 3: (25 - 23)² = 4\n",
        "- Day 4: (19 - 21)² = 4\n",
        "- Day 5: (30 - 29)² = 1\n",
        "\n",
        "Now we calculate the MSE:\n",
        "\n",
        "$$\n",
        "\\text{MSE} = \\frac{1}{5} (4 + 4 + 4 + 4 + 1) = \\frac{17}{5} = 3.4\n",
        "$$\n",
        "\n",
        "This indicates that the average squared deviation of the model's predictions from the actual values is 3.4 degrees squared.\n",
        "\n",
        "**Relation to Other Metrics:**\n",
        "MSE is often compared to other error metrics:\n",
        "- **Mean Absolute Error (MAE):** MAE measures the average magnitude of errors in a set of predictions, without considering their direction, while MSE squares the errors, giving more weight to larger errors.\n",
        "  \n",
        "- **Root Mean Squared Error (RMSE):** RMSE is the square root of MSE, providing a measure of error in the same units as the target variable.\n",
        "\n",
        "**Conclusion:**\n",
        "Mean Squared Error (MSE) is a widely used metric for evaluating the accuracy of regression models. It provides a clear quantification of model performance by measuring the average squared difference between predicted and actual values. Understanding MSE helps practitioners make informed decisions about model selection and performance evaluation. By considering MSE alongside other metrics, such as MAE and RMSE, stakeholders can gain a comprehensive view of model effectiveness."
      ],
      "metadata": {
        "id": "E0fw4lETNgcE"
      }
    },
    {
      "cell_type": "code",
      "execution_count": 2,
      "metadata": {
        "colab": {
          "base_uri": "https://localhost:8080/"
        },
        "id": "jjvPC4ZlNfo2",
        "outputId": "886d4660-7b95-4e37-d5fc-28b6694a5021"
      },
      "outputs": [
        {
          "output_type": "stream",
          "name": "stdout",
          "text": [
            "Actual Values: [20 22 25 19 30]\n",
            "Predicted Values: [18 24 23 21 29]\n",
            "Mean Squared Error (MSE): 3.40\n",
            "\n",
            "Squared Errors:\n",
            "Day 1: (20 - 18)² = 4\n",
            "Day 2: (22 - 24)² = 4\n",
            "Day 3: (25 - 23)² = 4\n",
            "Day 4: (19 - 21)² = 4\n",
            "Day 5: (30 - 29)² = 1\n"
          ]
        }
      ],
      "source": [
        "import numpy as np\n",
        "from sklearn.metrics import mean_squared_error\n",
        "\n",
        "y_true = np.array([20, 22, 25, 19, 30])\n",
        "y_pred = np.array([18, 24, 23, 21, 29])\n",
        "\n",
        "mse = mean_squared_error(y_true, y_pred)\n",
        "\n",
        "print(f\"Actual Values: {y_true}\")\n",
        "print(f\"Predicted Values: {y_pred}\")\n",
        "print(f\"Mean Squared Error (MSE): {mse:.2f}\")\n",
        "\n",
        "squared_errors = (y_true - y_pred) ** 2\n",
        "\n",
        "print(\"\\nSquared Errors:\")\n",
        "for i in range(len(y_true)):\n",
        "    print(f\"Day {i + 1}: ({y_true[i]} - {y_pred[i]})² = {squared_errors[i]}\")"
      ]
    },
    {
      "cell_type": "code",
      "source": [],
      "metadata": {
        "id": "NPnHss3aNxTf"
      },
      "execution_count": null,
      "outputs": []
    }
  ]
}