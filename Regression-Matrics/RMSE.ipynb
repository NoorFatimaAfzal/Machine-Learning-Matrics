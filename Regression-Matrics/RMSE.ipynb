{
  "nbformat": 4,
  "nbformat_minor": 0,
  "metadata": {
    "colab": {
      "provenance": []
    },
    "kernelspec": {
      "name": "python3",
      "display_name": "Python 3"
    },
    "language_info": {
      "name": "python"
    }
  },
  "cells": [
    {
      "cell_type": "markdown",
      "source": [
        "# Root Mean Squared Error (RMSE)\n",
        "\n",
        "**Definition:**  \n",
        "Root Mean Squared Error (RMSE) is the square root of the average of squared differences between predicted values and actual values. RMSE provides a measure of how well a regression model predicts a dependent variable, and it is particularly useful for understanding the error in the same units as the original data.\n",
        "\n",
        "**Formula:**\n",
        "\n",
        "$$\n",
        "\\text{RMSE} = \\sqrt{\\frac{1}{n} \\sum_{i=1}^{n} (y_i - \\hat{y}_i)^2}\n",
        "$$\n",
        "\n",
        "where:\n",
        "- \\( y_i \\) is the actual value,\n",
        "- \\( \\hat{y}_i \\) is the predicted value,\n",
        "- \\( n \\) is the total number of observations.\n",
        "\n",
        "**Importance of RMSE:**\n",
        "RMSE is a critical metric for evaluating the performance of regression models, as it provides insights into the model's prediction accuracy. It is used in various applications, such as:\n",
        "\n",
        "- **Forecasting:** In time series forecasting, RMSE helps to quantify the accuracy of predictions against actual observations.\n",
        "- **Machine Learning:** RMSE is often used as a loss function in training regression models, allowing practitioners to minimize prediction errors.\n",
        "\n",
        "**Interpretation:**\n",
        "- **Low RMSE:** A low RMSE value indicates that the model's predictions are close to the actual values, suggesting good performance.\n",
        "  \n",
        "- **High RMSE:** A high RMSE value suggests that the model's predictions deviate significantly from the actual values, indicating potential issues with the model.\n",
        "\n",
        "**Example:**\n",
        "Consider a regression problem where we are predicting the heights of a group of people. Suppose we have the following actual and predicted heights data:\n",
        "\n",
        "| Person | Actual Height (\\(y\\)) | Predicted Height (\\(\\hat{y}\\)) |\n",
        "|--------|------------------------|---------------------------------|\n",
        "| 1      | 170                    | 168                             |\n",
        "| 2      | 165                    | 160                             |\n",
        "| 3      | 180                    | 175                             |\n",
        "| 4      | 175                    | 177                             |\n",
        "| 5      | 160                    | 162                             |\n",
        "\n",
        "To calculate RMSE, we first compute the squared errors:\n",
        "\n",
        "- Person 1: (170 - 168)² = 4\n",
        "- Person 2: (165 - 160)² = 25\n",
        "- Person 3: (180 - 175)² = 25\n",
        "- Person 4: (175 - 177)² = 4\n",
        "- Person 5: (160 - 162)² = 4\n",
        "\n",
        "Now we calculate the RMSE:\n",
        "\n",
        "1. Calculate the MSE:\n",
        "\n",
        "$$\n",
        "\\text{MSE} = \\frac{1}{5} (4 + 25 + 25 + 4 + 4) = \\frac{62}{5} = 12.4\n",
        "$$\n",
        "\n",
        "2. Calculate the RMSE:\n",
        "\n",
        "$$\n",
        "\\text{RMSE} = \\sqrt{12.4} \\approx 3.53\n",
        "$$\n",
        "\n",
        "This indicates that, on average, the model's predictions deviate from the actual values by approximately 3.53 units.\n",
        "\n",
        "**Relation to Other Metrics:**\n",
        "RMSE is often compared to other error metrics:\n",
        "- **Mean Absolute Error (MAE):** MAE provides a linear score, while RMSE gives a higher weight to larger errors due to squaring.\n",
        "  \n",
        "- **Mean Squared Error (MSE):** RMSE is the square root of MSE, providing a measure of error in the same units as the target variable.\n",
        "\n",
        "**Conclusion:**\n",
        "Root Mean Squared Error (RMSE) is a widely used metric for evaluating the accuracy of regression models. It provides a clear quantification of model performance by measuring the average deviation of predicted values from actual values. Understanding RMSE helps practitioners make informed decisions about model selection and performance evaluation. By considering RMSE alongside other metrics, such as MAE and MSE, stakeholders can gain a comprehensive view of model effectiveness."
      ],
      "metadata": {
        "id": "E0fw4lETNgcE"
      }
    },
    {
      "cell_type": "code",
      "execution_count": 3,
      "metadata": {
        "colab": {
          "base_uri": "https://localhost:8080/"
        },
        "id": "jjvPC4ZlNfo2",
        "outputId": "d40ca1de-a035-4110-86f1-d64ec46dea47"
      },
      "outputs": [
        {
          "output_type": "stream",
          "name": "stdout",
          "text": [
            "Actual Values: [170 165 180 175 160]\n",
            "Predicted Values: [168 160 175 177 162]\n",
            "Mean Squared Error (MSE): 12.40\n",
            "Root Mean Squared Error (RMSE): 3.52\n",
            "\n",
            "Squared Errors:\n",
            "Person 1: (170 - 168)² = 4\n",
            "Person 2: (165 - 160)² = 25\n",
            "Person 3: (180 - 175)² = 25\n",
            "Person 4: (175 - 177)² = 4\n",
            "Person 5: (160 - 162)² = 4\n"
          ]
        }
      ],
      "source": [
        "import numpy as np\n",
        "from sklearn.metrics import mean_squared_error\n",
        "\n",
        "y_true = np.array([170, 165, 180, 175, 160])\n",
        "y_pred = np.array([168, 160, 175, 177, 162])\n",
        "\n",
        "mse = mean_squared_error(y_true, y_pred)\n",
        "\n",
        "rmse = np.sqrt(mse)\n",
        "\n",
        "print(f\"Actual Values: {y_true}\")\n",
        "print(f\"Predicted Values: {y_pred}\")\n",
        "print(f\"Mean Squared Error (MSE): {mse:.2f}\")\n",
        "print(f\"Root Mean Squared Error (RMSE): {rmse:.2f}\")\n",
        "\n",
        "squared_errors = (y_true - y_pred) ** 2\n",
        "\n",
        "print(\"\\nSquared Errors:\")\n",
        "for i in range(len(y_true)):\n",
        "    print(f\"Person {i + 1}: ({y_true[i]} - {y_pred[i]})² = {squared_errors[i]}\")"
      ]
    },
    {
      "cell_type": "code",
      "source": [],
      "metadata": {
        "id": "NPnHss3aNxTf"
      },
      "execution_count": null,
      "outputs": []
    }
  ]
}