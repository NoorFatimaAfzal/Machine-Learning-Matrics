{
  "nbformat": 4,
  "nbformat_minor": 0,
  "metadata": {
    "colab": {
      "provenance": []
    },
    "kernelspec": {
      "name": "python3",
      "display_name": "Python 3"
    },
    "language_info": {
      "name": "python"
    }
  },
  "cells": [
    {
      "cell_type": "markdown",
      "source": [
        "# R-squared (R²) Score\n",
        "\n",
        "**Definition:**  \n",
        "R-squared (R²), also known as the coefficient of determination, is a statistical measure that represents the proportion of the variance for a dependent variable that's explained by an independent variable or variables in a regression model. R² provides an indication of how well the independent variables explain the variability of the dependent variable.\n",
        "\n",
        "**Formula:**\n",
        "\n",
        "$$\n",
        "R^2 = 1 - \\frac{\\text{SS}_{\\text{res}}}{\\text{SS}_{\\text{tot}}}\n",
        "$$\n",
        "\n",
        "where:\n",
        "- Numerator is the sum of the squared residuals (the sum of squares of the differences between the actual and predicted values),\n",
        "- Denominator is the total sum of squares (the sum of squares of the differences between the actual values and their mean).\n",
        "\n",
        "**Importance of R²:**\n",
        "R² is a widely used metric for evaluating the goodness-of-fit of regression models. It helps in understanding how well the model predicts the outcome variable. R² is used in various applications, such as:\n",
        "\n",
        "- **Model Evaluation:** R² provides insight into the explanatory power of the model, allowing practitioners to compare different models.\n",
        "- **Feature Selection:** A higher R² value can indicate that a model has captured a significant amount of variance in the data, helping to identify important features.\n",
        "\n",
        "**Interpretation:**\n",
        "- **R² = 1:** The model perfectly predicts the dependent variable, explaining all the variability.\n",
        "  \n",
        "- **R² = 0:** The model does not explain any variability, and predictions are as good as using the mean of the dependent variable.\n",
        "  \n",
        "- **Negative R²:** A negative value indicates that the model is performing worse than a horizontal line representing the mean of the dependent variable.\n",
        "\n",
        "**Example:**\n",
        "Consider a regression problem where we are predicting the price of houses based on their sizes. Suppose we have the following actual and predicted prices data:\n",
        "\n",
        "| House | Actual Price (\\(y\\)) | Predicted Price (\\(\\hat{y}\\)) |\n",
        "|-------|-----------------------|--------------------------------|\n",
        "| 1     | 200                   | 180                            |\n",
        "| 2     | 250                   | 240                            |\n",
        "| 3     | 300                   | 310                            |\n",
        "| 4     | 150                   | 160                            |\n",
        "| 5     | 400                   | 390                            |\n",
        "\n",
        "To calculate R², we first compute the residuals and the total sum of squares.\n",
        "\n",
        "1. Calculate the mean of the actual prices:\n",
        "\n",
        "$$\n",
        "\\bar{y} = \\frac{200 + 250 + 300 + 150 + 400}{5} = 260\n",
        "$$\n",
        "\n",
        "2. Calculate \\( \\text{SS}_{\\text{tot}} \\):\n",
        "\n",
        "$$\n",
        "\\text{SS}_{\\text{tot}} = (200 - 260)^2 + (250 - 260)^2 + (300 - 260)^2 + (150 - 260)^2 + (400 - 260)^2 = 3600 + 100 + 1600 + 12100 + 19600 = 28800\n",
        "$$\n",
        "\n",
        "3. Calculate \\( \\text{SS}_{\\text{res}} \\):\n",
        "\n",
        "$$\n",
        "\\text{SS}_{\\text{res}} = (200 - 180)^2 + (250 - 240)^2 + (300 - 310)^2 + (150 - 160)^2 + (400 - 390)^2 = 400 + 100 + 100 + 100 + 100 = 800\n",
        "$$\n",
        "\n",
        "4. Calculate R²:\n",
        "\n",
        "$$\n",
        "R^2 = 1 - \\frac{800}{28800} \\approx 1 - 0.0278 \\approx 0.9722\n",
        "$$\n",
        "\n",
        "This indicates that approximately 97.22% of the variance in the actual house prices is explained by the model.\n",
        "\n",
        "**Conclusion:**\n",
        "R-squared (R²) score is a valuable metric for assessing the performance of regression models. It provides insights into the proportion of variance explained by the model, allowing practitioners to gauge the model's effectiveness. Understanding R² helps in model selection and comparison. By considering R² alongside other metrics, such as MAE, MSE, and RMSE, stakeholders can gain a comprehensive view of model performance."
      ],
      "metadata": {
        "id": "E0fw4lETNgcE"
      }
    },
    {
      "cell_type": "code",
      "execution_count": 4,
      "metadata": {
        "colab": {
          "base_uri": "https://localhost:8080/"
        },
        "id": "jjvPC4ZlNfo2",
        "outputId": "83e4b2b8-308c-46c1-e7a5-7339a9349422"
      },
      "outputs": [
        {
          "output_type": "stream",
          "name": "stdout",
          "text": [
            "Actual Values: [200 250 300 150 400]\n",
            "Predicted Values: [180 240 310 160 390]\n",
            "R-squared (R²): 0.9784\n",
            "\n",
            "Total Sum of Squares (SS_tot): 37000.00\n",
            "Residual Sum of Squares (SS_res): 800.00\n"
          ]
        }
      ],
      "source": [
        "import numpy as np\n",
        "from sklearn.metrics import r2_score\n",
        "\n",
        "y_true = np.array([200, 250, 300, 150, 400])\n",
        "y_pred = np.array([180, 240, 310, 160, 390])\n",
        "\n",
        "r2 = r2_score(y_true, y_pred)\n",
        "\n",
        "print(f\"Actual Values: {y_true}\")\n",
        "print(f\"Predicted Values: {y_pred}\")\n",
        "print(f\"R-squared (R²): {r2:.4f}\")\n",
        "\n",
        "mean_y = np.mean(y_true)\n",
        "ss_tot = np.sum((y_true - mean_y) ** 2)\n",
        "ss_res = np.sum((y_true - y_pred) ** 2)\n",
        "\n",
        "print(f\"\\nTotal Sum of Squares (SS_tot): {ss_tot:.2f}\")\n",
        "print(f\"Residual Sum of Squares (SS_res): {ss_res:.2f}\")"
      ]
    },
    {
      "cell_type": "code",
      "source": [],
      "metadata": {
        "id": "NPnHss3aNxTf"
      },
      "execution_count": null,
      "outputs": []
    }
  ]
}