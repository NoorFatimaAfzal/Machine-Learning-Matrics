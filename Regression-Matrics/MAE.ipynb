{
  "nbformat": 4,
  "nbformat_minor": 0,
  "metadata": {
    "colab": {
      "provenance": []
    },
    "kernelspec": {
      "name": "python3",
      "display_name": "Python 3"
    },
    "language_info": {
      "name": "python"
    }
  },
  "cells": [
    {
      "cell_type": "markdown",
      "source": [
        "# Mean Absolute Error (MAE)\n",
        "\n",
        "**Definition:**  \n",
        "Mean Absolute Error (MAE) is a measure of errors between paired observations expressing the same phenomenon. Specifically, it is the average of the absolute differences between the predicted values and the actual values. MAE provides an easy-to-understand metric for model accuracy and is widely used in regression analysis.\n",
        "\n",
        "**Formula:**\n",
        "\n",
        "$$\n",
        "\\text{MAE} = \\frac{1}{n} \\sum_{i=1}^{n} |y_i - \\hat{y}_i|\n",
        "$$\n",
        "\n",
        "where:\n",
        "- \\( y_i \\) is the actual value,\n",
        "- \\( \\hat{y}_i \\) is the predicted value,\n",
        "- \\( n \\) is the total number of observations.\n",
        "\n",
        "**Importance of MAE:**\n",
        "MAE is particularly valuable in situations where it is essential to understand the magnitude of errors in predictions. It is used in various applications, such as:\n",
        "\n",
        "- **Forecasting:** In demand forecasting, MAE helps measure the accuracy of predictions against actual sales or usage.\n",
        "- **Financial Modeling:** In finance, MAE is utilized to assess the performance of models predicting stock prices or other economic indicators.\n",
        "\n",
        "**Interpretation:**\n",
        "- **Low MAE:** A low MAE value indicates that the model's predictions are close to the actual values, suggesting good performance.\n",
        "  \n",
        "- **High MAE:** A high MAE value indicates that the model's predictions deviate significantly from the actual values, which may require model tuning or improvement.\n",
        "\n",
        "**Example:**\n",
        "Consider a regression problem where we are predicting the sales of a product over a week. Suppose we have the following actual and predicted sales data:\n",
        "\n",
        "| Day | Actual Sales (\\(y\\)) | Predicted Sales (\\(\\hat{y}\\)) |\n",
        "|-----|----------------------|-------------------------------|\n",
        "| 1   | 100                  | 90                            |\n",
        "| 2   | 150                  | 140                           |\n",
        "| 3   | 200                  | 210                           |\n",
        "| 4   | 250                  | 240                           |\n",
        "| 5   | 300                  | 310                           |\n",
        "\n",
        "To calculate MAE, we first compute the absolute errors:\n",
        "\n",
        "- Day 1: |100 - 90| = 10\n",
        "- Day 2: |150 - 140| = 10\n",
        "- Day 3: |200 - 210| = 10\n",
        "- Day 4: |250 - 240| = 10\n",
        "- Day 5: |300 - 310| = 10\n",
        "\n",
        "Now we calculate the MAE:\n",
        "\n",
        "$$\n",
        "\\text{MAE} = \\frac{1}{5} (10 + 10 + 10 + 10 + 10) = \\frac{50}{5} = 10\n",
        "$$\n",
        "\n",
        "This indicates that, on average, the model's predictions deviate from the actual values by 10 units.\n",
        "\n",
        "**Relation to Other Metrics:**\n",
        "MAE is often compared to other error metrics:\n",
        "- **Mean Squared Error (MSE):** MSE squares the errors before averaging, which can disproportionately penalize larger errors.\n",
        "  \n",
        "- **Root Mean Squared Error (RMSE):** RMSE provides a measure of error in the same units as the target variable, giving a different perspective on the model’s performance.\n",
        "\n",
        "**Conclusion:**\n",
        "Mean Absolute Error (MAE) is a straightforward and effective metric for evaluating the accuracy of regression models. It provides a clear interpretation of model performance by measuring the average magnitude of errors in predictions. Understanding MAE helps practitioners make informed decisions about model selection and performance evaluation. By considering MAE alongside other metrics, such as MSE and RMSE, stakeholders can gain a comprehensive view of model effectiveness.\n"
      ],
      "metadata": {
        "id": "E0fw4lETNgcE"
      }
    },
    {
      "cell_type": "code",
      "execution_count": 1,
      "metadata": {
        "colab": {
          "base_uri": "https://localhost:8080/"
        },
        "id": "jjvPC4ZlNfo2",
        "outputId": "abd15141-45c6-40ec-8c23-cc70e096f120"
      },
      "outputs": [
        {
          "output_type": "stream",
          "name": "stdout",
          "text": [
            "Actual Values: [100 150 200 250 300]\n",
            "Predicted Values: [ 90 140 210 240 310]\n",
            "Mean Absolute Error (MAE): 10.00\n",
            "\n",
            "Absolute Errors:\n",
            "Day 1: |100 - 90| = 10\n",
            "Day 2: |150 - 140| = 10\n",
            "Day 3: |200 - 210| = 10\n",
            "Day 4: |250 - 240| = 10\n",
            "Day 5: |300 - 310| = 10\n"
          ]
        }
      ],
      "source": [
        "import numpy as np\n",
        "from sklearn.metrics import mean_absolute_error\n",
        "\n",
        "y_true = np.array([100, 150, 200, 250, 300])\n",
        "y_pred = np.array([90, 140, 210, 240, 310])\n",
        "\n",
        "mae = mean_absolute_error(y_true, y_pred)\n",
        "\n",
        "print(f\"Actual Values: {y_true}\")\n",
        "print(f\"Predicted Values: {y_pred}\")\n",
        "print(f\"Mean Absolute Error (MAE): {mae:.2f}\")\n",
        "\n",
        "absolute_errors = np.abs(y_true - y_pred)\n",
        "\n",
        "print(\"\\nAbsolute Errors:\")\n",
        "for i in range(len(y_true)):\n",
        "    print(f\"Day {i + 1}: |{y_true[i]} - {y_pred[i]}| = {absolute_errors[i]}\")"
      ]
    },
    {
      "cell_type": "code",
      "source": [],
      "metadata": {
        "id": "NPnHss3aNxTf"
      },
      "execution_count": null,
      "outputs": []
    }
  ]
}